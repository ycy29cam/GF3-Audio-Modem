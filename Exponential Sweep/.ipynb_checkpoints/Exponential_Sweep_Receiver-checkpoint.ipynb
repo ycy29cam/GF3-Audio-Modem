{
 "cells": [
  {
   "cell_type": "markdown",
   "id": "aea54297",
   "metadata": {},
   "source": [
    "## Install the required libraries"
   ]
  },
  {
   "cell_type": "code",
   "execution_count": null,
   "id": "655e3937",
   "metadata": {},
   "outputs": [],
   "source": [
    "!pip install sounddevice\n",
    "!pip install pathlib"
   ]
  },
  {
   "cell_type": "markdown",
   "id": "a39fb4ee",
   "metadata": {},
   "source": [
    "## Import the required libraries"
   ]
  },
  {
   "cell_type": "code",
   "execution_count": null,
   "id": "74265d0d",
   "metadata": {},
   "outputs": [],
   "source": [
    "import numpy as np\n",
    "import sounddevice as sd\n",
    "import scipy.signal as sg\n",
    "import matplotlib.pyplot as plt\n",
    "from pathlib import Path"
   ]
  },
  {
   "cell_type": "markdown",
   "id": "facd484e",
   "metadata": {},
   "source": [
    "## Setting sweep parameters\n",
    "- $F_s$ is the sampling frequency\n",
    "- $f_1$ is the starting frequency\n",
    "- $f_2$ is the ending frequency\n",
    "- $T$ is the sampling duration\n",
    "- $N$ is the number of samples\n",
    "- $R = \\ln{\\frac{f_2}{f_1}}$"
   ]
  },
  {
   "cell_type": "code",
   "execution_count": null,
   "id": "24c05f0a",
   "metadata": {},
   "outputs": [],
   "source": [
    "Fs = 48000\n",
    "f1 = 100\n",
    "f2 = 22000\n",
    "T = 8\n",
    "N = int(Fs * T)\n",
    "R = np.log(f2 / f1)\n",
    "n = np.arange(N)"
   ]
  },
  {
   "cell_type": "markdown",
   "id": "a50eeff4",
   "metadata": {},
   "source": [
    "## Sweep generation\n",
    "- Generate the exponential sweep using $s[n]=\\sin\\bigg(\\frac{2\\pi f_1 T}{R}\\bigg(\\exp{\\bigg(\\frac{nR}{N}\\bigg)}-1\\bigg)\\bigg)$"
   ]
  },
  {
   "cell_type": "code",
   "execution_count": null,
   "id": "356f0403",
   "metadata": {},
   "outputs": [],
   "source": [
    "sweep = np.sin(2*np.pi*f1*T/R * (np.exp(n*R/N) - 1))\n",
    "sweep *= sg.tukey(N, 0.04)    \n",
    "sweep *= 10**(-3/20)\n",
    "barker = (np.array([1,1,1,1,1,0,0,1,1,0,1,0,1])*2-1).repeat(300)*0.7"
   ]
  },
  {
   "cell_type": "markdown",
   "id": "2988616b",
   "metadata": {},
   "source": [
    "## Record the probe"
   ]
  },
  {
   "cell_type": "code",
   "execution_count": null,
   "id": "bc2d0781",
   "metadata": {},
   "outputs": [],
   "source": [
    "rec_len = int(1.1 * (13*300 + 2*8*Fs))   # ≈ 19 s\n",
    "recording = sd.rec(rec_len, samplerate=Fs, channels=1)\n",
    "sd.wait()\n",
    "y = recording[:,0].astype(np.float32)"
   ]
  },
  {
   "cell_type": "markdown",
   "id": "4a742550",
   "metadata": {},
   "source": [
    "## Define a cross-correlation peak-locating function using FFT"
   ]
  },
  {
   "cell_type": "code",
   "execution_count": null,
   "id": "b4505e9d",
   "metadata": {},
   "outputs": [],
   "source": [
    "def corr_peak()"
   ]
  }
 ],
 "metadata": {
  "kernelspec": {
   "display_name": "Python 3 (ipykernel)",
   "language": "python",
   "name": "python3"
  },
  "language_info": {
   "codemirror_mode": {
    "name": "ipython",
    "version": 3
   },
   "file_extension": ".py",
   "mimetype": "text/x-python",
   "name": "python",
   "nbconvert_exporter": "python",
   "pygments_lexer": "ipython3",
   "version": "3.9.12"
  }
 },
 "nbformat": 4,
 "nbformat_minor": 5
}
