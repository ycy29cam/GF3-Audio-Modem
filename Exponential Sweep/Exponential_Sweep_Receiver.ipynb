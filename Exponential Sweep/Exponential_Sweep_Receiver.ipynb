{
 "cells": [
  {
   "cell_type": "markdown",
   "id": "4c3827a2",
   "metadata": {},
   "source": [
    "## Install the required libraries"
   ]
  },
  {
   "cell_type": "code",
   "execution_count": 1,
   "id": "8c7e5696",
   "metadata": {},
   "outputs": [
    {
     "name": "stdout",
     "output_type": "stream",
     "text": [
      "Requirement already satisfied: sounddevice in c:\\users\\user\\anaconda3\\lib\\site-packages (0.4.6)\n",
      "Requirement already satisfied: CFFI>=1.0 in c:\\users\\user\\anaconda3\\lib\\site-packages (from sounddevice) (1.15.0)\n",
      "Requirement already satisfied: pycparser in c:\\users\\user\\anaconda3\\lib\\site-packages (from CFFI>=1.0->sounddevice) (2.21)\n"
     ]
    },
    {
     "name": "stderr",
     "output_type": "stream",
     "text": [
      "\n",
      "[notice] A new release of pip is available: 23.2.1 -> 25.1.1\n",
      "[notice] To update, run: python.exe -m pip install --upgrade pip\n"
     ]
    },
    {
     "name": "stdout",
     "output_type": "stream",
     "text": [
      "Collecting resampy\n",
      "  Obtaining dependency information for resampy from https://files.pythonhosted.org/packages/4d/b9/3b00ac340a1aab3389ebcc52c779914a44aadf7b0cb7a3bf053195735607/resampy-0.4.3-py3-none-any.whl.metadata\n",
      "  Downloading resampy-0.4.3-py3-none-any.whl.metadata (3.0 kB)\n",
      "Requirement already satisfied: numpy>=1.17 in c:\\users\\user\\anaconda3\\lib\\site-packages (from resampy) (1.21.5)\n",
      "Requirement already satisfied: numba>=0.53 in c:\\users\\user\\anaconda3\\lib\\site-packages (from resampy) (0.55.1)\n",
      "Requirement already satisfied: llvmlite<0.39,>=0.38.0rc1 in c:\\users\\user\\anaconda3\\lib\\site-packages (from numba>=0.53->resampy) (0.38.0)\n",
      "Requirement already satisfied: setuptools in c:\\users\\user\\anaconda3\\lib\\site-packages (from numba>=0.53->resampy) (61.2.0)\n",
      "Downloading resampy-0.4.3-py3-none-any.whl (3.1 MB)\n",
      "   ---------------------------------------- 3.1/3.1 MB 17.8 MB/s eta 0:00:00\n",
      "Installing collected packages: resampy\n",
      "Successfully installed resampy-0.4.3\n"
     ]
    },
    {
     "name": "stderr",
     "output_type": "stream",
     "text": [
      "\n",
      "[notice] A new release of pip is available: 23.2.1 -> 25.1.1\n",
      "[notice] To update, run: python.exe -m pip install --upgrade pip\n"
     ]
    },
    {
     "name": "stdout",
     "output_type": "stream",
     "text": [
      "Requirement already satisfied: pathlib in c:\\users\\user\\anaconda3\\lib\\site-packages (1.0.1)\n"
     ]
    },
    {
     "name": "stderr",
     "output_type": "stream",
     "text": [
      "\n",
      "[notice] A new release of pip is available: 23.2.1 -> 25.1.1\n",
      "[notice] To update, run: python.exe -m pip install --upgrade pip\n"
     ]
    }
   ],
   "source": [
    "!pip install sounddevice\n",
    "!pip install resampy\n",
    "!pip install pathlib"
   ]
  },
  {
   "cell_type": "markdown",
   "id": "cfd2ec42",
   "metadata": {},
   "source": [
    "## Import the required libraries"
   ]
  },
  {
   "cell_type": "code",
   "execution_count": 2,
   "id": "bebc83f9",
   "metadata": {},
   "outputs": [],
   "source": [
    "import numpy as np\n",
    "import sounddevice as sd\n",
    "import scipy.signal as sg\n",
    "import matplotlib.pyplot as plt\n",
    "import resampy\n",
    "from pathlib import Path"
   ]
  },
  {
   "cell_type": "markdown",
   "id": "97532d5e",
   "metadata": {},
   "source": [
    "## Setting sweep parameters\n",
    "- $F_s$ is the sampling frequency\n",
    "- $f_1$ is the starting frequency\n",
    "- $f_2$ is the ending frequency\n",
    "- $T$ is the sampling duration\n",
    "- $N$ is the number of samples\n",
    "- $R = \\ln{\\frac{f_2}{f_1}}$"
   ]
  },
  {
   "cell_type": "code",
   "execution_count": 3,
   "id": "51b47463",
   "metadata": {},
   "outputs": [],
   "source": [
    "Fs = 48000\n",
    "f1 = 100\n",
    "f2 = 22000\n",
    "T = 8\n",
    "N = int(Fs * T)\n",
    "R = np.log(f2 / f1)\n",
    "n = np.arange(N)"
   ]
  },
  {
   "cell_type": "markdown",
   "id": "1b00672a",
   "metadata": {},
   "source": [
    "## Sweep generation\n",
    "- Generate the exponential sweep using $s[n]=\\sin\\bigg(\\frac{2\\pi f_1 T}{R}\\bigg(\\exp{\\bigg(\\frac{nR}{N}\\bigg)}-1\\bigg)\\bigg)$"
   ]
  },
  {
   "cell_type": "code",
   "execution_count": 4,
   "id": "58f2716c",
   "metadata": {},
   "outputs": [],
   "source": [
    "sweep = np.sin(2*np.pi*f1*T/R * (np.exp(n*R/N) - 1))\n",
    "sweep *= sg.tukey(N, 0.04)    \n",
    "sweep *= 10**(-3/20)\n",
    "barker = (np.array([1,1,1,1,1,0,0,1,1,0,1,0,1])*2-1).repeat(300)*0.7"
   ]
  },
  {
   "cell_type": "markdown",
   "id": "67dd02fe",
   "metadata": {},
   "source": [
    "## Record the probe"
   ]
  },
  {
   "cell_type": "code",
   "execution_count": 5,
   "id": "dfa51a57",
   "metadata": {},
   "outputs": [],
   "source": [
    "rec_len = int(1.1 * (13*300 + 2*8*Fs))   # ≈ 19 s\n",
    "recording = sd.rec(rec_len, samplerate=Fs, channels=1)\n",
    "sd.wait()\n",
    "y = recording[:,0].astype(np.float32)"
   ]
  },
  {
   "cell_type": "markdown",
   "id": "1193fbe5",
   "metadata": {},
   "source": [
    "## Define a cross-correlation peak-locating function using FFT"
   ]
  },
  {
   "cell_type": "code",
   "execution_count": 6,
   "id": "15f13012",
   "metadata": {},
   "outputs": [],
   "source": [
    "def corr_peak(sig, ref):\n",
    "    Nfft = 2**int(np.ceil(np.log2(len(sig)+len(ref))))\n",
    "    corr = np.fft.irfft(np.fft.rfft(sig[::-1],Nfft)*np.fft.rfft(ref,Nfft))\n",
    "    return np.argmax(np.abs(corr))"
   ]
  },
  {
   "cell_type": "markdown",
   "id": "dbd86e8c",
   "metadata": {},
   "source": [
    "## Locate and remove the barker"
   ]
  },
  {
   "cell_type": "code",
   "execution_count": 7,
   "id": "60440aa6",
   "metadata": {},
   "outputs": [],
   "source": [
    "p_barker = corr_peak(y, barker)\n",
    "y_trim   = y[p_barker + len(barker):]"
   ]
  },
  {
   "cell_type": "markdown",
   "id": "473768ab",
   "metadata": {},
   "source": [
    "## Locate the two cross-correlation peaks and estimate the SRO"
   ]
  },
  {
   "cell_type": "code",
   "execution_count": 8,
   "id": "df8ec561",
   "metadata": {},
   "outputs": [
    {
     "name": "stdout",
     "output_type": "stream",
     "text": [
      "SRO ε̂ = -344143.2 ppm\n"
     ]
    }
   ],
   "source": [
    "p1 = corr_peak(y_trim, sweep)\n",
    "p2 = corr_peak(y_trim[p1 + N//2:], sweep) + p1 + N//2\n",
    "eps_hat = (p2 - p1 - N)/N\n",
    "print(f\"SRO ε̂ = {eps_hat*1e6:.1f} ppm\")"
   ]
  },
  {
   "cell_type": "markdown",
   "id": "52110c86",
   "metadata": {},
   "source": [
    "## Resample the received signal, with the $\\hat{\\epsilon}$ estimated above"
   ]
  },
  {
   "cell_type": "code",
   "execution_count": 9,
   "id": "cc47693b",
   "metadata": {},
   "outputs": [],
   "source": [
    "y_rs = resampy.resample(y_trim, 1+eps_hat, 1, axis=0)"
   ]
  },
  {
   "cell_type": "markdown",
   "id": "33132a96",
   "metadata": {},
   "source": [
    "## Compute the final cross-correlation peak location, using the resampled received signal and the probe, then adjust the shift"
   ]
  },
  {
   "cell_type": "code",
   "execution_count": 10,
   "id": "4124370e",
   "metadata": {},
   "outputs": [],
   "source": [
    "n0 = corr_peak(y_rs, sweep)\n",
    "sweep_rx = y_rs[n0 : n0 + N]"
   ]
  },
  {
   "cell_type": "markdown",
   "id": "16fa411b",
   "metadata": {},
   "source": [
    "## Construct the inverse filter"
   ]
  },
  {
   "cell_type": "code",
   "execution_count": 11,
   "id": "76cb9c55",
   "metadata": {},
   "outputs": [],
   "source": [
    "inv = sweep[::-1] * np.exp(-n[::-1]*R/N) "
   ]
  },
  {
   "cell_type": "markdown",
   "id": "5ff0baa9",
   "metadata": {},
   "source": [
    "## Regularised de-convolution"
   ]
  },
  {
   "cell_type": "code",
   "execution_count": 12,
   "id": "0b21e772",
   "metadata": {},
   "outputs": [],
   "source": [
    "pad   = 2**int(np.ceil(np.log2(len(sweep_rx))))\n",
    "Hhat  = np.fft.irfft(np.fft.rfft(sweep_rx, pad) * np.fft.rfft(inv, pad))\n",
    "Lh    = 4096                                         \n",
    "rir   = Hhat[:Lh] * sg.tukey(Lh, 0.1)"
   ]
  },
  {
   "cell_type": "markdown",
   "id": "ea00557c",
   "metadata": {},
   "source": [
    "## Plot and save for OFDM equaliser"
   ]
  },
  {
   "cell_type": "code",
   "execution_count": 13,
   "id": "2eb1c6f7",
   "metadata": {},
   "outputs": [
    {
     "data": {
      "image/png": "[encoded data removed]",
      "text/plain": [
       "<Figure size 432x216 with 1 Axes>"
      ]
     },
     "metadata": {
      "needs_background": "light"
     },
     "output_type": "display_data"
    },
    {
     "name": "stdout",
     "output_type": "stream",
     "text": [
      "Saved 32-bit float RIR to rir.npy\n"
     ]
    }
   ],
   "source": [
    "plt.figure(figsize=(6,3)) \n",
    "plt.plot(rir)\n",
    "plt.title(\"Estimated room impulse\")\n",
    "plt.show()\n",
    "Path(\"rir.npy\").write_bytes(rir.astype(np.float32).tobytes())\n",
    "print(\"Saved 32-bit float RIR to rir.npy\")"
   ]
  }
 ],
 "metadata": {
  "kernelspec": {
   "display_name": "Python 3 (ipykernel)",
   "language": "python",
   "name": "python3"
  },
  "language_info": {
   "codemirror_mode": {
    "name": "ipython",
    "version": 3
   },
   "file_extension": ".py",
   "mimetype": "text/x-python",
   "name": "python",
   "nbconvert_exporter": "python",
   "pygments_lexer": "ipython3",
   "version": "3.9.12"
  }
 },
 "nbformat": 4,
 "nbformat_minor": 5
}
