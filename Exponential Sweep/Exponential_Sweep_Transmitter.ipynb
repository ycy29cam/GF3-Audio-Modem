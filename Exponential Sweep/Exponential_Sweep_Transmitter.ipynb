{
 "cells": [
  {
   "cell_type": "markdown",
   "id": "db86c52f",
   "metadata": {},
   "source": [
    "## Install the required libraries"
   ]
  },
  {
   "cell_type": "code",
   "execution_count": 1,
   "id": "15e400df",
   "metadata": {},
   "outputs": [
    {
     "name": "stdout",
     "output_type": "stream",
     "text": [
      "Requirement already satisfied: sounddevice in c:\\users\\user\\anaconda3\\lib\\site-packages (0.4.6)\n",
      "Requirement already satisfied: CFFI>=1.0 in c:\\users\\user\\anaconda3\\lib\\site-packages (from sounddevice) (1.15.0)\n",
      "Requirement already satisfied: pycparser in c:\\users\\user\\anaconda3\\lib\\site-packages (from CFFI>=1.0->sounddevice) (2.21)\n"
     ]
    },
    {
     "name": "stderr",
     "output_type": "stream",
     "text": [
      "\n",
      "[notice] A new release of pip is available: 23.2.1 -> 25.1.1\n",
      "[notice] To update, run: python.exe -m pip install --upgrade pip\n"
     ]
    },
    {
     "name": "stdout",
     "output_type": "stream",
     "text": [
      "Collecting pathlib\n",
      "  Obtaining dependency information for pathlib from https://files.pythonhosted.org/packages/78/f9/690a8600b93c332de3ab4a344a4ac34f00c8f104917061f779db6a918ed6/pathlib-1.0.1-py3-none-any.whl.metadata\n",
      "  Downloading pathlib-1.0.1-py3-none-any.whl.metadata (5.1 kB)\n",
      "Downloading pathlib-1.0.1-py3-none-any.whl (14 kB)\n",
      "Installing collected packages: pathlib\n",
      "Successfully installed pathlib-1.0.1\n"
     ]
    },
    {
     "name": "stderr",
     "output_type": "stream",
     "text": [
      "\n",
      "[notice] A new release of pip is available: 23.2.1 -> 25.1.1\n",
      "[notice] To update, run: python.exe -m pip install --upgrade pip\n"
     ]
    }
   ],
   "source": [
    "!pip install sounddevice\n",
    "!pip install pathlib"
   ]
  },
  {
   "cell_type": "markdown",
   "id": "4811342c",
   "metadata": {},
   "source": [
    "## Import the required libraries"
   ]
  },
  {
   "cell_type": "code",
   "execution_count": 2,
   "id": "88c8dffc",
   "metadata": {},
   "outputs": [],
   "source": [
    "import numpy as np\n",
    "import sounddevice as sd\n",
    "import scipy.signal as sg\n",
    "import matplotlib.pyplot as plt\n",
    "from pathlib import Path"
   ]
  },
  {
   "cell_type": "markdown",
   "id": "33a76267",
   "metadata": {},
   "source": [
    "## Setting sweep parameters\n",
    "- $F_s$ is the sampling frequency\n",
    "- $f_1$ is the starting frequency\n",
    "- $f_2$ is the ending frequency\n",
    "- $T$ is the sampling duration\n",
    "- $N$ is the number of samples\n",
    "- $R = \\ln{\\frac{f_2}{f_1}}$"
   ]
  },
  {
   "cell_type": "code",
   "execution_count": 3,
   "id": "5b721d49",
   "metadata": {},
   "outputs": [],
   "source": [
    "Fs = 48000\n",
    "f1 = 100\n",
    "f2 = 22000\n",
    "T = 8\n",
    "N = int(Fs * T)\n",
    "R = np.log(f2 / f1)\n",
    "n = np.arange(N)"
   ]
  },
  {
   "cell_type": "markdown",
   "id": "5bc56a0a",
   "metadata": {},
   "source": [
    "## Sweep generation\n",
    "- Generate the exponential sweep using $s[n]=\\sin\\bigg(\\frac{2\\pi f_1 T}{R}\\bigg(\\exp{\\bigg(\\frac{nR}{N}\\bigg)}-1\\bigg)\\bigg)$"
   ]
  },
  {
   "cell_type": "code",
   "execution_count": 4,
   "id": "9cc25e7d",
   "metadata": {},
   "outputs": [],
   "source": [
    "sweep = np.sin(2*np.pi*f1*T/R * (np.exp(n*R/N) - 1))\n",
    "sweep *= sg.tukey(N, 0.04)    \n",
    "sweep *= 10**(-3/20)               "
   ]
  },
  {
   "cell_type": "markdown",
   "id": "6cc888c9",
   "metadata": {},
   "source": [
    "## Probe building\n",
    "- The sweep is repeated for channel synchronisation, by introducing two peaks that can be used for estimating the SRO"
   ]
  },
  {
   "cell_type": "code",
   "execution_count": 5,
   "id": "0bdf7cae",
   "metadata": {},
   "outputs": [],
   "source": [
    "barker = np.array([1,1,1,1,1,0,0,1,1,0,1,0,1])*2-1 \n",
    "barker = np.repeat(barker, 300) * 0.7        \n",
    "probe  = np.hstack([barker, sweep, sweep])"
   ]
  },
  {
   "cell_type": "markdown",
   "id": "75e6a50d",
   "metadata": {},
   "source": [
    "## Play the probe"
   ]
  },
  {
   "cell_type": "code",
   "execution_count": 6,
   "id": "c458871c",
   "metadata": {},
   "outputs": [
    {
     "name": "stdout",
     "output_type": "stream",
     "text": [
      "Playing 2× sweep (≈ 16.1 s)…\n",
      "Done.\n"
     ]
    }
   ],
   "source": [
    "print(\"Playing 2× sweep (≈%5.1f s)…\" % (probe.size/Fs))\n",
    "sd.play(probe.astype(np.float32), Fs, blocking=True)\n",
    "print(\"Done.\")"
   ]
  },
  {
   "cell_type": "code",
   "execution_count": null,
   "id": "5846a693",
   "metadata": {},
   "outputs": [],
   "source": []
  }
 ],
 "metadata": {
  "kernelspec": {
   "display_name": "Python 3 (ipykernel)",
   "language": "python",
   "name": "python3"
  },
  "language_info": {
   "codemirror_mode": {
    "name": "ipython",
    "version": 3
   },
   "file_extension": ".py",
   "mimetype": "text/x-python",
   "name": "python",
   "nbconvert_exporter": "python",
   "pygments_lexer": "ipython3",
   "version": "3.9.12"
  }
 },
 "nbformat": 4,
 "nbformat_minor": 5
}
