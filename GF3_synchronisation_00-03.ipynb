{
 "cells": [
  {
   "cell_type": "markdown",
   "id": "80f879f0",
   "metadata": {},
   "source": [
    "# GF3: Synchronisation \n",
    "### Using gaussian white noise, time domain"
   ]
  },
  {
   "cell_type": "code",
   "execution_count": 20,
   "id": "903cb19f",
   "metadata": {},
   "outputs": [],
   "source": [
    "#importing necessary libraries\n",
    "import numpy as np\n",
    "import scipy\n",
    "import matplotlib.pyplot as plt\n",
    "import sounddevice as sd"
   ]
  },
  {
   "cell_type": "markdown",
   "id": "edf5f7db",
   "metadata": {},
   "source": [
    "#### Producing white noise"
   ]
  },
  {
   "cell_type": "code",
   "execution_count": null,
   "id": "9a9fc060",
   "metadata": {},
   "outputs": [],
   "source": [
    "#parameters\n",
    "SAMPLE_RATE = 44100  # Sample rate in Hz\n",
    "DURATION = 5  # Duration of the white noise in seconds\n",
    "RECORDING_DURATION = 6  # Duration of the recording in seconds"
   ]
  },
  {
   "cell_type": "code",
   "execution_count": 11,
   "id": "6c5c60e0",
   "metadata": {},
   "outputs": [],
   "source": [
    "# Generate white noise, array of sample_rate * duration samples\n",
    "noise = np.random.normal(0, 1, SAMPLE_RATE * DURATION)\n",
    "\n",
    "# Normalize the white noise\n",
    "noise = noise / np.max(np.abs(noise))"
   ]
  },
  {
   "cell_type": "code",
   "execution_count": 12,
   "id": "85800930",
   "metadata": {},
   "outputs": [],
   "source": [
    "sd.play(noise, SAMPLE_RATE)"
   ]
  },
  {
   "cell_type": "code",
   "execution_count": 13,
   "id": "71cedcaf",
   "metadata": {},
   "outputs": [],
   "source": [
    "#sd.stop()"
   ]
  },
  {
   "cell_type": "markdown",
   "id": "c27e15dc",
   "metadata": {},
   "source": [
    "#### Recording white noise"
   ]
  },
  {
   "cell_type": "code",
   "execution_count": 16,
   "id": "311f7c29",
   "metadata": {},
   "outputs": [],
   "source": [
    "# records the audio, use longer duration than the noise\n",
    "myrecording = sd.rec(int(RECORDING_DURATION * SAMPLE_RATE), samplerate=SAMPLE_RATE, channels=1)\n"
   ]
  },
  {
   "cell_type": "code",
   "execution_count": 24,
   "id": "2dc869d0",
   "metadata": {},
   "outputs": [
    {
     "name": "stdout",
     "output_type": "stream",
     "text": [
      "[[ 0.00000000e+00]\n",
      " [ 0.00000000e+00]\n",
      " [-3.05175781e-05]\n",
      " ...\n",
      " [ 3.05175781e-05]\n",
      " [ 0.00000000e+00]\n",
      " [ 0.00000000e+00]]\n"
     ]
    }
   ],
   "source": [
    "# records the audio as it plays\n",
    "selfrecording = sd.playrec(noise, SAMPLE_RATE, channels=1) \n",
    "sd.wait()  # Wait until the recording is finished\n",
    "print(selfrecording)"
   ]
  },
  {
   "cell_type": "code",
   "execution_count": 27,
   "id": "31e30d39",
   "metadata": {},
   "outputs": [
    {
     "name": "stdout",
     "output_type": "stream",
     "text": [
      "10007.695365709798\n",
      "220499\n"
     ]
    }
   ],
   "source": [
    "sync = scipy.signal.correlate(noise, noise, mode='full', method='auto')\n",
    "#check the dimesionality of the selfrecording signal + \n",
    "print(np.max(sync))\n",
    "print (np.argmax(sync))"
   ]
  },
  {
   "cell_type": "markdown",
   "id": "29444272",
   "metadata": {},
   "source": []
  }
 ],
 "metadata": {
  "kernelspec": {
   "display_name": "Python 3",
   "language": "python",
   "name": "python3"
  },
  "language_info": {
   "codemirror_mode": {
    "name": "ipython",
    "version": 3
   },
   "file_extension": ".py",
   "mimetype": "text/x-python",
   "name": "python",
   "nbconvert_exporter": "python",
   "pygments_lexer": "ipython3",
   "version": "3.12.10"
  }
 },
 "nbformat": 4,
 "nbformat_minor": 5
}
