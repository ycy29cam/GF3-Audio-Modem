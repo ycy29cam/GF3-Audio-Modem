{
 "cells": [
  {
   "cell_type": "markdown",
   "id": "b22d662a",
   "metadata": {},
   "source": [
    "### Import the required libraries\n",
    "- pandas\n",
    "- numpy\n",
    "- matplotlib.pyplot\n",
    "- PIL (Pillow, for image visualisation)"
   ]
  },
  {
   "cell_type": "code",
   "execution_count": 1,
   "id": "a25f7431-159b-455e-834b-33cf3afbd2d9",
   "metadata": {},
   "outputs": [],
   "source": [
    "import pandas as pd\n",
    "import numpy as np\n",
    "import matplotlib.pyplot as plt\n",
    "from PIL import Image"
   ]
  },
  {
   "cell_type": "markdown",
   "id": "a45f4eb5",
   "metadata": {},
   "source": [
    "### Read the channel data (CSV to pd.DataFrame)"
   ]
  },
  {
   "cell_type": "code",
   "execution_count": 2,
   "id": "de6b4f51",
   "metadata": {
    "scrolled": true
   },
   "outputs": [
    {
     "name": "stdout",
     "output_type": "stream",
     "text": [
      "<class 'pandas.core.frame.DataFrame'>\n",
      "RangeIndex: 30 entries, 0 to 29\n",
      "Data columns (total 1 columns):\n",
      " #   Column  Non-Null Count  Dtype  \n",
      "---  ------  --------------  -----  \n",
      " 0   0       30 non-null     float64\n",
      "dtypes: float64(1)\n",
      "memory usage: 368.0 bytes\n"
     ]
    }
   ],
   "source": [
    "channel = pd.read_csv(\"channel.csv\", header=None)\n",
    "channel.info()"
   ]
  },
  {
   "cell_type": "markdown",
   "id": "a13e77de",
   "metadata": {},
   "source": [
    "### Read the first file (CSV to pd.DataFrame)"
   ]
  },
  {
   "cell_type": "code",
   "execution_count": 3,
   "id": "4b076616",
   "metadata": {},
   "outputs": [
    {
     "name": "stdout",
     "output_type": "stream",
     "text": [
      "<class 'pandas.core.frame.DataFrame'>\n",
      "RangeIndex: 1003200 entries, 0 to 1003199\n",
      "Data columns (total 1 columns):\n",
      " #   Column  Non-Null Count    Dtype  \n",
      "---  ------  --------------    -----  \n",
      " 0   0       1003200 non-null  float64\n",
      "dtypes: float64(1)\n",
      "memory usage: 7.7 MB\n"
     ]
    }
   ],
   "source": [
    "file_1 = pd.read_csv(\"file1.csv\", header=None)\n",
    "file_1.info()"
   ]
  },
  {
   "cell_type": "markdown",
   "id": "fc43afd8",
   "metadata": {},
   "source": [
    "### Check the length of the received signal\n",
    "- The received signal should have a length which is a multiple of the OFDM symbol length"
   ]
  },
  {
   "cell_type": "code",
   "execution_count": 4,
   "id": "c510585e",
   "metadata": {},
   "outputs": [
    {
     "data": {
      "text/plain": [
       "950.0"
      ]
     },
     "execution_count": 4,
     "metadata": {},
     "output_type": "execute_result"
    }
   ],
   "source": [
    "len(np.array(file_1))/(1024 + 32)"
   ]
  },
  {
   "cell_type": "markdown",
   "id": "1b94c848",
   "metadata": {},
   "source": [
    "### Divide the received signal into OFDM symbols\n",
    "- The length of the OFDM symbols is specified in the Moodle task: 1024 (DFT block) + 32 (inserted prefix)"
   ]
  },
  {
   "cell_type": "code",
   "execution_count": 5,
   "id": "4f88f4cd",
   "metadata": {},
   "outputs": [],
   "source": [
    "divided_file_1 = np.array(file_1).reshape(950, 1056)"
   ]
  },
  {
   "cell_type": "markdown",
   "id": "a2256136",
   "metadata": {},
   "source": [
    "### Remove the cyclic prefix of size 32 from the front of every OFDM block"
   ]
  },
  {
   "cell_type": "code",
   "execution_count": 6,
   "id": "5abf488d",
   "metadata": {},
   "outputs": [],
   "source": [
    "no_prefix_divided_file_1 = divided_file_1[:,32:]"
   ]
  },
  {
   "cell_type": "markdown",
   "id": "e9cb36fb",
   "metadata": {},
   "source": [
    "### Perform Fast Fourier Transform (FFT) on the received OFDM block without prefix"
   ]
  },
  {
   "cell_type": "code",
   "execution_count": 7,
   "id": "405e15ae",
   "metadata": {},
   "outputs": [
    {
     "data": {
      "text/plain": [
       "((950, 1024), (1024,))"
      ]
     },
     "execution_count": 7,
     "metadata": {},
     "output_type": "execute_result"
    }
   ],
   "source": [
    "fft_file_1 = np.fft.fft(no_prefix_divided_file_1, axis=1)\n",
    "fft_file_1.shape"
   ]
  },
  {
   "cell_type": "markdown",
   "id": "da8122a8",
   "metadata": {},
   "source": [
    "### Take only the 2nd to the 511th elements in each transformed OFDM block\n",
    "- Since there is conjugate symmetry, only half of the transformed block contains useful data"
   ]
  },
  {
   "cell_type": "code",
   "execution_count": 8,
   "id": "9c01f02e",
   "metadata": {},
   "outputs": [],
   "source": [
    "constellations_file_1 = fft_file_1[:,1:512]"
   ]
  },
  {
   "cell_type": "markdown",
   "id": "91cfb630",
   "metadata": {},
   "source": [
    "### Perform Fast Fourier Transform (FFT) on the channel impulse response"
   ]
  },
  {
   "cell_type": "code",
   "execution_count": 9,
   "id": "2757d23d",
   "metadata": {},
   "outputs": [
    {
     "data": {
      "text/plain": [
       "(30,)"
      ]
     },
     "execution_count": 9,
     "metadata": {},
     "output_type": "execute_result"
    }
   ],
   "source": [
    "np.array(channel).flatten().shape"
   ]
  },
  {
   "cell_type": "code",
   "execution_count": 10,
   "id": "bf9d1e13",
   "metadata": {},
   "outputs": [
    {
     "data": {
      "text/plain": [
       "(511,)"
      ]
     },
     "execution_count": 10,
     "metadata": {},
     "output_type": "execute_result"
    }
   ],
   "source": [
    "H = np.fft.fft(np.array(channel).flatten(), n=1024)[1:512]\n",
    "H.shape"
   ]
  },
  {
   "cell_type": "markdown",
   "id": "6865d9bf",
   "metadata": {},
   "source": [
    "### Equalise the constellations to have energy close to 0 (CHECK DESCRIPTION CORRECTNESS)"
   ]
  },
  {
   "cell_type": "code",
   "execution_count": 11,
   "id": "3376fffb",
   "metadata": {},
   "outputs": [
    {
     "data": {
      "text/plain": [
       "(950, 511)"
      ]
     },
     "execution_count": 11,
     "metadata": {},
     "output_type": "execute_result"
    }
   ],
   "source": [
    "equalised = constellations_file_1 / H\n",
    "equalised.shape"
   ]
  },
  {
   "cell_type": "code",
   "execution_count": 12,
   "id": "acd3d212",
   "metadata": {},
   "outputs": [],
   "source": [
    "equalised /= np.sqrt(np.mean(np.abs(equalised)**2))"
   ]
  },
  {
   "cell_type": "markdown",
   "id": "e7909f0b",
   "metadata": {},
   "source": [
    "### Plot the constellations to visualise the QPSK set up"
   ]
  },
  {
   "cell_type": "code",
   "execution_count": 13,
   "id": "4f0e61df",
   "metadata": {},
   "outputs": [
    {
     "data": {
      "image/png": "[encoded data removed]",
      "text/plain": [
       "<Figure size 432x288 with 1 Axes>"
      ]
     },
     "metadata": {
      "needs_background": "light"
     },
     "output_type": "display_data"
    }
   ],
   "source": [
    "plt.scatter(equalised[0].real, equalised[0].imag)\n",
    "plt.grid()\n",
    "plt.title(\"Equalised Constellation\")\n",
    "plt.show()"
   ]
  },
  {
   "cell_type": "markdown",
   "id": "e0ecfa8c",
   "metadata": {},
   "source": [
    "### Define a functino to demap the constellations and turn them back to two bits"
   ]
  },
  {
   "cell_type": "code",
   "execution_count": 14,
   "id": "5607285a",
   "metadata": {},
   "outputs": [],
   "source": [
    "def qpsk_demapper(symbol):\n",
    "    bit0 = (symbol.imag < 0).astype(np.uint8)\n",
    "    bit1 = (symbol.real < 0).astype(np.uint8)\n",
    "    return np.stack((bit0, bit1), axis=-1)"
   ]
  },
  {
   "cell_type": "code",
   "execution_count": 15,
   "id": "11f4c929",
   "metadata": {},
   "outputs": [
    {
     "data": {
      "text/plain": [
       "array([0, 1, 1, ..., 0, 0, 0], dtype=uint8)"
      ]
     },
     "execution_count": 15,
     "metadata": {},
     "output_type": "execute_result"
    }
   ],
   "source": [
    "bits_2d = qpsk_demapper(equalised)\n",
    "bitstream = bits_2d.reshape(-1)\n",
    "bitstream"
   ]
  },
  {
   "cell_type": "code",
   "execution_count": 16,
   "id": "32508883",
   "metadata": {},
   "outputs": [],
   "source": [
    "# bitstream = bitstream[:np.max(np.nonzero(np.any(bitstream.reshape(-1, 2) != 0, axis=1)))+1].reshape(-1)"
   ]
  },
  {
   "cell_type": "code",
   "execution_count": 17,
   "id": "aedcdae3",
   "metadata": {},
   "outputs": [
    {
     "data": {
      "text/plain": [
       "(970900,)"
      ]
     },
     "execution_count": 17,
     "metadata": {},
     "output_type": "execute_result"
    }
   ],
   "source": [
    "bitstream.shape"
   ]
  },
  {
   "cell_type": "code",
   "execution_count": 19,
   "id": "29cdf5ce",
   "metadata": {},
   "outputs": [],
   "source": [
    "byte_array = np.packbits(bitstream[:((len(bitstream) // 8)*8)].reshape(-1, 8), axis=1).flatten()"
   ]
  },
  {
   "cell_type": "code",
   "execution_count": 20,
   "id": "454a7c7f",
   "metadata": {},
   "outputs": [
    {
     "data": {
      "text/plain": [
       "(121362,)"
      ]
     },
     "execution_count": 20,
     "metadata": {},
     "output_type": "execute_result"
    }
   ],
   "source": [
    "byte_array.shape"
   ]
  },
  {
   "cell_type": "markdown",
   "id": "6fce000d",
   "metadata": {},
   "source": [
    "### Extract the file name"
   ]
  },
  {
   "cell_type": "code",
   "execution_count": 21,
   "id": "b93609b5",
   "metadata": {},
   "outputs": [
    {
     "data": {
      "text/plain": [
       "'files/3829010287.tiff'"
      ]
     },
     "execution_count": 21,
     "metadata": {},
     "output_type": "execute_result"
    }
   ],
   "source": [
    "file_name_terminate = np.where(byte_array == 0)[0][0]\n",
    "file_name = byte_array[:file_name_terminate].tobytes().decode(\"utf-8\")\n",
    "file_name"
   ]
  },
  {
   "cell_type": "markdown",
   "id": "d22e055d",
   "metadata": {},
   "source": [
    "### Extract the file size"
   ]
  },
  {
   "cell_type": "code",
   "execution_count": 22,
   "id": "5be8d569",
   "metadata": {},
   "outputs": [
    {
     "data": {
      "text/plain": [
       "121206"
      ]
     },
     "execution_count": 22,
     "metadata": {},
     "output_type": "execute_result"
    }
   ],
   "source": [
    "file_size_terminate = np.where(byte_array == 0)[0][1]\n",
    "file_size = int(byte_array[file_name_terminate + 1:file_size_terminate].tobytes().decode(\"utf-8\"))\n",
    "file_size"
   ]
  },
  {
   "cell_type": "code",
   "execution_count": 23,
   "id": "14e02168",
   "metadata": {},
   "outputs": [
    {
     "data": {
      "text/plain": [
       "((121206,), 121206)"
      ]
     },
     "execution_count": 23,
     "metadata": {},
     "output_type": "execute_result"
    }
   ],
   "source": [
    "file_content = byte_array[(file_size_terminate + 1):(file_size_terminate + int(file_size) + 1)]\n",
    "file_content.shape, len(file_content)"
   ]
  },
  {
   "cell_type": "markdown",
   "id": "b0445d54",
   "metadata": {},
   "source": [
    "### Extract the file content"
   ]
  },
  {
   "cell_type": "code",
   "execution_count": 24,
   "id": "4a37b155",
   "metadata": {},
   "outputs": [
    {
     "name": "stdout",
     "output_type": "stream",
     "text": [
      "[ 73  73  42   0  50 216   1   0 127 106]\n",
      "uint8\n",
      "121206\n"
     ]
    }
   ],
   "source": [
    "print(file_content[:10])\n",
    "print(file_content.dtype)\n",
    "print(len(file_content))"
   ]
  },
  {
   "cell_type": "markdown",
   "id": "3f9e3e3d",
   "metadata": {},
   "source": [
    "### Store (write to a file) the extracted file content"
   ]
  },
  {
   "cell_type": "code",
   "execution_count": 25,
   "id": "bccca2ac",
   "metadata": {},
   "outputs": [],
   "source": [
    "with open(\"file_1.tiff\", \"wb\") as f:\n",
    "    f.write(file_content.tobytes())"
   ]
  },
  {
   "cell_type": "code",
   "execution_count": 26,
   "id": "c435b168",
   "metadata": {},
   "outputs": [
    {
     "ename": "OSError",
     "evalue": "-2",
     "output_type": "error",
     "traceback": [
      "\u001b[1;31m---------------------------------------------------------------------------\u001b[0m",
      "\u001b[1;31mOSError\u001b[0m                                   Traceback (most recent call last)",
      "Input \u001b[1;32mIn [26]\u001b[0m, in \u001b[0;36m<cell line: 1>\u001b[1;34m()\u001b[0m\n\u001b[1;32m----> 1\u001b[0m \u001b[43mImage\u001b[49m\u001b[38;5;241;43m.\u001b[39;49m\u001b[43mopen\u001b[49m\u001b[43m(\u001b[49m\u001b[38;5;124;43m\"\u001b[39;49m\u001b[38;5;124;43mfile_1.tiff\u001b[39;49m\u001b[38;5;124;43m\"\u001b[39;49m\u001b[43m)\u001b[49m\u001b[38;5;241;43m.\u001b[39;49m\u001b[43mshow\u001b[49m\u001b[43m(\u001b[49m\u001b[43m)\u001b[49m\n",
      "File \u001b[1;32m~\\anaconda3\\lib\\site-packages\\PIL\\Image.py:2467\u001b[0m, in \u001b[0;36mImage.show\u001b[1;34m(self, title)\u001b[0m\n\u001b[0;32m   2447\u001b[0m \u001b[38;5;28;01mdef\u001b[39;00m \u001b[38;5;21mshow\u001b[39m(\u001b[38;5;28mself\u001b[39m, title\u001b[38;5;241m=\u001b[39m\u001b[38;5;28;01mNone\u001b[39;00m):\n\u001b[0;32m   2448\u001b[0m     \u001b[38;5;124;03m\"\"\"\u001b[39;00m\n\u001b[0;32m   2449\u001b[0m \u001b[38;5;124;03m    Displays this image. This method is mainly intended for debugging purposes.\u001b[39;00m\n\u001b[0;32m   2450\u001b[0m \n\u001b[1;32m   (...)\u001b[0m\n\u001b[0;32m   2464\u001b[0m \u001b[38;5;124;03m    :param title: Optional title to use for the image window, where possible.\u001b[39;00m\n\u001b[0;32m   2465\u001b[0m \u001b[38;5;124;03m    \"\"\"\u001b[39;00m\n\u001b[1;32m-> 2467\u001b[0m     \u001b[43m_show\u001b[49m\u001b[43m(\u001b[49m\u001b[38;5;28;43mself\u001b[39;49m\u001b[43m,\u001b[49m\u001b[43m \u001b[49m\u001b[43mtitle\u001b[49m\u001b[38;5;241;43m=\u001b[39;49m\u001b[43mtitle\u001b[49m\u001b[43m)\u001b[49m\n",
      "File \u001b[1;32m~\\anaconda3\\lib\\site-packages\\PIL\\Image.py:3506\u001b[0m, in \u001b[0;36m_show\u001b[1;34m(image, **options)\u001b[0m\n\u001b[0;32m   3503\u001b[0m \u001b[38;5;28;01mdef\u001b[39;00m \u001b[38;5;21m_show\u001b[39m(image, \u001b[38;5;241m*\u001b[39m\u001b[38;5;241m*\u001b[39moptions):\n\u001b[0;32m   3504\u001b[0m     \u001b[38;5;28;01mfrom\u001b[39;00m \u001b[38;5;21;01m.\u001b[39;00m \u001b[38;5;28;01mimport\u001b[39;00m ImageShow\n\u001b[1;32m-> 3506\u001b[0m     ImageShow\u001b[38;5;241m.\u001b[39mshow(image, \u001b[38;5;241m*\u001b[39m\u001b[38;5;241m*\u001b[39moptions)\n",
      "File \u001b[1;32m~\\anaconda3\\lib\\site-packages\\PIL\\ImageShow.py:60\u001b[0m, in \u001b[0;36mshow\u001b[1;34m(image, title, **options)\u001b[0m\n\u001b[0;32m     51\u001b[0m \u001b[38;5;124mr\u001b[39m\u001b[38;5;124;03m\"\"\"\u001b[39;00m\n\u001b[0;32m     52\u001b[0m \u001b[38;5;124;03mDisplay a given image.\u001b[39;00m\n\u001b[0;32m     53\u001b[0m \n\u001b[1;32m   (...)\u001b[0m\n\u001b[0;32m     57\u001b[0m \u001b[38;5;124;03m:returns: ``True`` if a suitable viewer was found, ``False`` otherwise.\u001b[39;00m\n\u001b[0;32m     58\u001b[0m \u001b[38;5;124;03m\"\"\"\u001b[39;00m\n\u001b[0;32m     59\u001b[0m \u001b[38;5;28;01mfor\u001b[39;00m viewer \u001b[38;5;129;01min\u001b[39;00m _viewers:\n\u001b[1;32m---> 60\u001b[0m     \u001b[38;5;28;01mif\u001b[39;00m viewer\u001b[38;5;241m.\u001b[39mshow(image, title\u001b[38;5;241m=\u001b[39mtitle, \u001b[38;5;241m*\u001b[39m\u001b[38;5;241m*\u001b[39moptions):\n\u001b[0;32m     61\u001b[0m         \u001b[38;5;28;01mreturn\u001b[39;00m \u001b[38;5;28;01mTrue\u001b[39;00m\n\u001b[0;32m     62\u001b[0m \u001b[38;5;28;01mreturn\u001b[39;00m \u001b[38;5;28;01mFalse\u001b[39;00m\n",
      "File \u001b[1;32m~\\anaconda3\\lib\\site-packages\\PIL\\ImageShow.py:84\u001b[0m, in \u001b[0;36mViewer.show\u001b[1;34m(self, image, **options)\u001b[0m\n\u001b[0;32m     81\u001b[0m     \u001b[38;5;28;01mif\u001b[39;00m image\u001b[38;5;241m.\u001b[39mmode \u001b[38;5;241m!=\u001b[39m base:\n\u001b[0;32m     82\u001b[0m         image \u001b[38;5;241m=\u001b[39m image\u001b[38;5;241m.\u001b[39mconvert(base)\n\u001b[1;32m---> 84\u001b[0m \u001b[38;5;28;01mreturn\u001b[39;00m \u001b[38;5;28mself\u001b[39m\u001b[38;5;241m.\u001b[39mshow_image(image, \u001b[38;5;241m*\u001b[39m\u001b[38;5;241m*\u001b[39moptions)\n",
      "File \u001b[1;32m~\\anaconda3\\lib\\site-packages\\PIL\\ImageShow.py:110\u001b[0m, in \u001b[0;36mViewer.show_image\u001b[1;34m(self, image, **options)\u001b[0m\n\u001b[0;32m    108\u001b[0m \u001b[38;5;28;01mdef\u001b[39;00m \u001b[38;5;21mshow_image\u001b[39m(\u001b[38;5;28mself\u001b[39m, image, \u001b[38;5;241m*\u001b[39m\u001b[38;5;241m*\u001b[39moptions):\n\u001b[0;32m    109\u001b[0m     \u001b[38;5;124;03m\"\"\"Display the given image.\"\"\"\u001b[39;00m\n\u001b[1;32m--> 110\u001b[0m     \u001b[38;5;28;01mreturn\u001b[39;00m \u001b[38;5;28mself\u001b[39m\u001b[38;5;241m.\u001b[39mshow_file(\u001b[38;5;28;43mself\u001b[39;49m\u001b[38;5;241;43m.\u001b[39;49m\u001b[43msave_image\u001b[49m\u001b[43m(\u001b[49m\u001b[43mimage\u001b[49m\u001b[43m)\u001b[49m, \u001b[38;5;241m*\u001b[39m\u001b[38;5;241m*\u001b[39moptions)\n",
      "File \u001b[1;32m~\\anaconda3\\lib\\site-packages\\PIL\\ImageShow.py:106\u001b[0m, in \u001b[0;36mViewer.save_image\u001b[1;34m(self, image)\u001b[0m\n\u001b[0;32m    104\u001b[0m \u001b[38;5;28;01mdef\u001b[39;00m \u001b[38;5;21msave_image\u001b[39m(\u001b[38;5;28mself\u001b[39m, image):\n\u001b[0;32m    105\u001b[0m     \u001b[38;5;124;03m\"\"\"Save to temporary file and return filename.\"\"\"\u001b[39;00m\n\u001b[1;32m--> 106\u001b[0m     \u001b[38;5;28;01mreturn\u001b[39;00m image\u001b[38;5;241m.\u001b[39m_dump(\u001b[38;5;28mformat\u001b[39m\u001b[38;5;241m=\u001b[39m\u001b[38;5;28mself\u001b[39m\u001b[38;5;241m.\u001b[39mget_format(image), \u001b[38;5;241m*\u001b[39m\u001b[38;5;241m*\u001b[39m\u001b[38;5;28mself\u001b[39m\u001b[38;5;241m.\u001b[39moptions)\n",
      "File \u001b[1;32m~\\anaconda3\\lib\\site-packages\\PIL\\Image.py:590\u001b[0m, in \u001b[0;36mImage._dump\u001b[1;34m(self, file, format, **options)\u001b[0m\n\u001b[0;32m    587\u001b[0m     \u001b[38;5;28;01mif\u001b[39;00m \u001b[38;5;129;01mnot\u001b[39;00m filename\u001b[38;5;241m.\u001b[39mendswith(suffix):\n\u001b[0;32m    588\u001b[0m         filename \u001b[38;5;241m=\u001b[39m filename \u001b[38;5;241m+\u001b[39m suffix\n\u001b[1;32m--> 590\u001b[0m \u001b[38;5;28;43mself\u001b[39;49m\u001b[38;5;241;43m.\u001b[39;49m\u001b[43mload\u001b[49m\u001b[43m(\u001b[49m\u001b[43m)\u001b[49m\n\u001b[0;32m    592\u001b[0m \u001b[38;5;28;01mif\u001b[39;00m \u001b[38;5;129;01mnot\u001b[39;00m \u001b[38;5;28mformat\u001b[39m \u001b[38;5;129;01mor\u001b[39;00m \u001b[38;5;28mformat\u001b[39m \u001b[38;5;241m==\u001b[39m \u001b[38;5;124m\"\u001b[39m\u001b[38;5;124mPPM\u001b[39m\u001b[38;5;124m\"\u001b[39m:\n\u001b[0;32m    593\u001b[0m     \u001b[38;5;28mself\u001b[39m\u001b[38;5;241m.\u001b[39mim\u001b[38;5;241m.\u001b[39msave_ppm(filename)\n",
      "File \u001b[1;32m~\\anaconda3\\lib\\site-packages\\PIL\\TiffImagePlugin.py:1202\u001b[0m, in \u001b[0;36mTiffImageFile.load\u001b[1;34m(self)\u001b[0m\n\u001b[0;32m   1200\u001b[0m \u001b[38;5;28;01mdef\u001b[39;00m \u001b[38;5;21mload\u001b[39m(\u001b[38;5;28mself\u001b[39m):\n\u001b[0;32m   1201\u001b[0m     \u001b[38;5;28;01mif\u001b[39;00m \u001b[38;5;28mself\u001b[39m\u001b[38;5;241m.\u001b[39mtile \u001b[38;5;129;01mand\u001b[39;00m \u001b[38;5;28mself\u001b[39m\u001b[38;5;241m.\u001b[39muse_load_libtiff:\n\u001b[1;32m-> 1202\u001b[0m         \u001b[38;5;28;01mreturn\u001b[39;00m \u001b[38;5;28;43mself\u001b[39;49m\u001b[38;5;241;43m.\u001b[39;49m\u001b[43m_load_libtiff\u001b[49m\u001b[43m(\u001b[49m\u001b[43m)\u001b[49m\n\u001b[0;32m   1203\u001b[0m     \u001b[38;5;28;01mreturn\u001b[39;00m \u001b[38;5;28msuper\u001b[39m()\u001b[38;5;241m.\u001b[39mload()\n",
      "File \u001b[1;32m~\\anaconda3\\lib\\site-packages\\PIL\\TiffImagePlugin.py:1317\u001b[0m, in \u001b[0;36mTiffImageFile._load_libtiff\u001b[1;34m(self)\u001b[0m\n\u001b[0;32m   1314\u001b[0m     \u001b[38;5;28mself\u001b[39m\u001b[38;5;241m.\u001b[39mfp \u001b[38;5;241m=\u001b[39m \u001b[38;5;28;01mNone\u001b[39;00m  \u001b[38;5;66;03m# might be shared\u001b[39;00m\n\u001b[0;32m   1316\u001b[0m \u001b[38;5;28;01mif\u001b[39;00m err \u001b[38;5;241m<\u001b[39m \u001b[38;5;241m0\u001b[39m:\n\u001b[1;32m-> 1317\u001b[0m     \u001b[38;5;28;01mraise\u001b[39;00m \u001b[38;5;167;01mOSError\u001b[39;00m(err)\n\u001b[0;32m   1319\u001b[0m \u001b[38;5;28;01mreturn\u001b[39;00m Image\u001b[38;5;241m.\u001b[39mImage\u001b[38;5;241m.\u001b[39mload(\u001b[38;5;28mself\u001b[39m)\n",
      "\u001b[1;31mOSError\u001b[0m: -2"
     ]
    }
   ],
   "source": [
    "Image.open(\"file_1.tiff\").show()"
   ]
  },
  {
   "cell_type": "code",
   "execution_count": null,
   "id": "868c2973",
   "metadata": {},
   "outputs": [],
   "source": []
  }
 ],
 "metadata": {
  "kernelspec": {
   "display_name": "Python 3 (ipykernel)",
   "language": "python",
   "name": "python3"
  },
  "language_info": {
   "codemirror_mode": {
    "name": "ipython",
    "version": 3
   },
   "file_extension": ".py",
   "mimetype": "text/x-python",
   "name": "python",
   "nbconvert_exporter": "python",
   "pygments_lexer": "ipython3",
   "version": "3.9.12"
  }
 },
 "nbformat": 4,
 "nbformat_minor": 5
}
