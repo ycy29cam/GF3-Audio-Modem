{
 "cells": [
  {
   "cell_type": "markdown",
   "id": "c7f1d09d",
   "metadata": {},
   "source": [
    "This code is designed to measure the synchronisation of the signal"
   ]
  },
  {
   "cell_type": "code",
   "execution_count": 1,
   "id": "b62f1168",
   "metadata": {},
   "outputs": [
    {
     "name": "stdout",
     "output_type": "stream",
     "text": [
      "Defaulting to user installation because normal site-packages is not writeable\n",
      "Requirement already satisfied: sounddevice in c:\\users\\maxle\\appdata\\local\\packages\\pythonsoftwarefoundation.python.3.12_qbz5n2kfra8p0\\localcache\\local-packages\\python312\\site-packages (0.5.2)\n",
      "Requirement already satisfied: CFFI>=1.0 in c:\\users\\maxle\\appdata\\local\\packages\\pythonsoftwarefoundation.python.3.12_qbz5n2kfra8p0\\localcache\\local-packages\\python312\\site-packages (from sounddevice) (1.17.1)\n",
      "Requirement already satisfied: pycparser in c:\\users\\maxle\\appdata\\local\\packages\\pythonsoftwarefoundation.python.3.12_qbz5n2kfra8p0\\localcache\\local-packages\\python312\\site-packages (from CFFI>=1.0->sounddevice) (2.22)\n"
     ]
    },
    {
     "name": "stderr",
     "output_type": "stream",
     "text": [
      "\n",
      "[notice] A new release of pip is available: 25.0.1 -> 25.1.1\n",
      "[notice] To update, run: C:\\Users\\Maxle\\AppData\\Local\\Microsoft\\WindowsApps\\PythonSoftwareFoundation.Python.3.12_qbz5n2kfra8p0\\python.exe -m pip install --upgrade pip\n"
     ]
    }
   ],
   "source": [
    "!pip install sounddevice\n",
    "\n"
   ]
  },
  {
   "cell_type": "code",
   "execution_count": 2,
   "id": "7362152c",
   "metadata": {},
   "outputs": [],
   "source": [
    "import sounddevice as sd\n"
   ]
  },
  {
   "cell_type": "code",
   "execution_count": 3,
   "id": "a81df8b3",
   "metadata": {},
   "outputs": [],
   "source": [
    "\n",
    "import numpy as np\n",
    "import threading\n",
    "import time\n",
    "\n",
    "# --- Configuration ---\n",
    "# Adjust these parameters based on your microphone and environment\n",
    "\n",
    "SAMPLERATE = 44100  # Samples per second (common values: 44100, 48000)\n",
    "BLOCKSIZE = 1024    # Number of frames passed to the callback function\n",
    "THRESHOLD = 0.05    # Amplitude threshold for clap detection (adjust as needed)\n",
    "CLAP_HOLD_FRAMES = 5 # Number of consecutive blocks exceeding threshold to confirm clap\n",
    "DEVICE = None       # None for default input device, or specify device index/name\n",
    "\n",
    "# --- State Variables ---\n",
    "clap_detected = False\n",
    "frames_since_threshold = 0\n",
    "stream = None\n",
    "stop_event = threading.Event()\n",
    "\n",
    "# --- Callback Function ---\n",
    "def audio_callback(indata, frames, time_info, status):\n",
    "    \"\"\"This is called (from a separate thread) for each audio block.\"\"\"\n",
    "    global clap_detected, frames_since_threshold\n",
    "\n",
    "    if status:\n",
    "        print(status)\n",
    "\n",
    "    # Calculate the amplitude (RMS or peak)\n",
    "    amplitude = np.linalg.norm(indata) / np.sqrt(frames) # RMS amplitude\n",
    "\n",
    "    if amplitude > THRESHOLD:\n",
    "        frames_since_threshold += 1\n",
    "        if frames_since_threshold >= CLAP_HOLD_FRAMES and not clap_detected:\n",
    "            print(\"Clap detected!\")\n",
    "            clap_detected = True\n",
    "    else:\n",
    "        frames_since_threshold = 0\n",
    "        # Optional: Reset clap_detected after a certain period of low amplitude\n",
    "        if clap_detected and amplitude < THRESHOLD * 0.5: # Reset if amplitude drops significantly\n",
    "             clap_detected = False\n",
    "\n",
    "\n",
    "# --- Main Function to Start and Stop the Stream ---\n",
    "def start_clap_detector(samplerate=SAMPLERATE, blocksize=BLOCKSIZE, device=DEVICE, threshold=THRESHOLD, clap_hold_frames=CLAP_HOLD_FRAMES):\n",
    "    \"\"\"Starts the audio stream to listen for claps.\"\"\"\n",
    "    global stream, clap_detected, frames_since_threshold, stop_event\n",
    "\n",
    "    clap_detected = False\n",
    "    frames_since_threshold = 0\n",
    "    stop_event.clear()\n",
    "\n",
    "    try:\n",
    "        stream = sd.InputStream(\n",
    "            samplerate=samplerate,\n",
    "            blocksize=blocksize,\n",
    "            device=device,\n",
    "            channels=1,  # Use 1 for mono audio\n",
    "            dtype='float32', # Data type\n",
    "            callback=audio_callback\n",
    "        )\n",
    "        print(\"Starting audio stream. Listening for claps...\")\n",
    "        stream.start()\n",
    "\n",
    "    except Exception as e:\n",
    "        print(f\"Error starting stream: {e}\")\n",
    "        stream = None\n",
    "\n",
    "def stop_clap_detector():\n",
    "    \"\"\"Stops the audio stream.\"\"\"\n",
    "    global stream, stop_event\n",
    "    if stream is not None and stream.running:\n",
    "        print(\"Stopping audio stream.\")\n",
    "        stop_event.set()\n",
    "        stream.stop()\n",
    "        stream.close()\n",
    "        stream = None\n",
    "        print(\"Stream stopped.\")\n",
    "    else:\n",
    "        print(\"Stream is not running.\")"
   ]
  },
  {
   "cell_type": "code",
   "execution_count": 7,
   "id": "cc8f1e18",
   "metadata": {},
   "outputs": [
    {
     "name": "stdout",
     "output_type": "stream",
     "text": [
      "Starting audio stream. Listening for claps...\n",
      "Clap detection code loaded. Use start_clap_detector() to begin listening.\n"
     ]
    }
   ],
   "source": [
    "# To start listening:\n",
    "start_clap_detector()\n",
    "\n",
    "# Keep the notebook alive while listening.\n",
    "# You can run this in a separate cell after starting the detector.\n",
    "# This loop will block the cell execution but allows the callback to run.\n",
    "# You can interrupt this cell's execution to stop the listening loop,\n",
    "# but it's better to use the stop_clap_detector() function.\n",
    "\n",
    "# while not stop_event.is_set() and stream is not None and stream.running:\n",
    "#     time.sleep(0.1)\n",
    "\n",
    "print(\"Clap detection code loaded. Use start_clap_detector() to begin listening.\")"
   ]
  },
  {
   "cell_type": "code",
   "execution_count": null,
   "id": "63fd5af5",
   "metadata": {},
   "outputs": [
    {
     "ename": "AttributeError",
     "evalue": "'InputStream' object has no attribute 'running'",
     "output_type": "error",
     "traceback": [
      "\u001b[31m---------------------------------------------------------------------------\u001b[39m",
      "\u001b[31mAttributeError\u001b[39m                            Traceback (most recent call last)",
      "\u001b[36mCell\u001b[39m\u001b[36m \u001b[39m\u001b[32mIn[8]\u001b[39m\u001b[32m, line 2\u001b[39m\n\u001b[32m      1\u001b[39m \u001b[38;5;66;03m# To stop listening:\u001b[39;00m\n\u001b[32m----> \u001b[39m\u001b[32m2\u001b[39m \u001b[43mstop_clap_detector\u001b[49m\u001b[43m(\u001b[49m\u001b[43m)\u001b[49m\n",
      "\u001b[36mCell\u001b[39m\u001b[36m \u001b[39m\u001b[32mIn[3]\u001b[39m\u001b[32m, line 71\u001b[39m, in \u001b[36mstop_clap_detector\u001b[39m\u001b[34m()\u001b[39m\n\u001b[32m     69\u001b[39m \u001b[38;5;250m\u001b[39m\u001b[33;03m\"\"\"Stops the audio stream.\"\"\"\u001b[39;00m\n\u001b[32m     70\u001b[39m \u001b[38;5;28;01mglobal\u001b[39;00m stream, stop_event\n\u001b[32m---> \u001b[39m\u001b[32m71\u001b[39m \u001b[38;5;28;01mif\u001b[39;00m stream \u001b[38;5;129;01mis\u001b[39;00m \u001b[38;5;129;01mnot\u001b[39;00m \u001b[38;5;28;01mNone\u001b[39;00m \u001b[38;5;129;01mand\u001b[39;00m \u001b[43mstream\u001b[49m\u001b[43m.\u001b[49m\u001b[43mrunning\u001b[49m:\n\u001b[32m     72\u001b[39m     \u001b[38;5;28mprint\u001b[39m(\u001b[33m\"\u001b[39m\u001b[33mStopping audio stream.\u001b[39m\u001b[33m\"\u001b[39m)\n\u001b[32m     73\u001b[39m     stop_event.set()\n",
      "\u001b[31mAttributeError\u001b[39m: 'InputStream' object has no attribute 'running'"
     ]
    },
    {
     "ename": "",
     "evalue": "",
     "output_type": "error",
     "traceback": [
      "\u001b[1;31mThe Kernel crashed while executing code in the current cell or a previous cell. \n",
      "\u001b[1;31mPlease review the code in the cell(s) to identify a possible cause of the failure. \n",
      "\u001b[1;31mClick <a href='https://aka.ms/vscodeJupyterKernelCrash'>here</a> for more info. \n",
      "\u001b[1;31mView Jupyter <a href='command:jupyter.viewOutput'>log</a> for further details."
     ]
    }
   ],
   "source": [
    "# To stop listening:\n",
    "stop_clap_detector()"
   ]
  }
 ],
 "metadata": {
  "kernelspec": {
   "display_name": "Python 3",
   "language": "python",
   "name": "python3"
  },
  "language_info": {
   "codemirror_mode": {
    "name": "ipython",
    "version": 3
   },
   "file_extension": ".py",
   "mimetype": "text/x-python",
   "name": "python",
   "nbconvert_exporter": "python",
   "pygments_lexer": "ipython3",
   "version": "3.12.10"
  }
 },
 "nbformat": 4,
 "nbformat_minor": 5
}
